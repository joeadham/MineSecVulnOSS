{
  "nbformat": 4,
  "nbformat_minor": 0,
  "metadata": {
    "colab": {
      "provenance": [],
      "gpuType": "T4"
    },
    "kernelspec": {
      "name": "python3",
      "display_name": "Python 3"
    },
    "language_info": {
      "name": "python"
    },
    "accelerator": "GPU"
  },
  "cells": [
    {
      "cell_type": "code",
      "execution_count": 1,
      "metadata": {
        "colab": {
          "base_uri": "https://localhost:8080/"
        },
        "id": "kk364gy4w4hb",
        "outputId": "1f3e0472-4565-4302-bc41-834ce33486aa"
      },
      "outputs": [
        {
          "output_type": "stream",
          "name": "stdout",
          "text": [
            "Requirement already satisfied: transformers in /usr/local/lib/python3.11/dist-packages (4.50.3)\n",
            "Requirement already satisfied: torch in /usr/local/lib/python3.11/dist-packages (2.6.0+cu124)\n",
            "Requirement already satisfied: pandas in /usr/local/lib/python3.11/dist-packages (2.2.2)\n",
            "Requirement already satisfied: scikit-learn in /usr/local/lib/python3.11/dist-packages (1.6.1)\n",
            "Requirement already satisfied: filelock in /usr/local/lib/python3.11/dist-packages (from transformers) (3.18.0)\n",
            "Requirement already satisfied: huggingface-hub<1.0,>=0.26.0 in /usr/local/lib/python3.11/dist-packages (from transformers) (0.30.1)\n",
            "Requirement already satisfied: numpy>=1.17 in /usr/local/lib/python3.11/dist-packages (from transformers) (2.0.2)\n",
            "Requirement already satisfied: packaging>=20.0 in /usr/local/lib/python3.11/dist-packages (from transformers) (24.2)\n",
            "Requirement already satisfied: pyyaml>=5.1 in /usr/local/lib/python3.11/dist-packages (from transformers) (6.0.2)\n",
            "Requirement already satisfied: regex!=2019.12.17 in /usr/local/lib/python3.11/dist-packages (from transformers) (2024.11.6)\n",
            "Requirement already satisfied: requests in /usr/local/lib/python3.11/dist-packages (from transformers) (2.32.3)\n",
            "Requirement already satisfied: tokenizers<0.22,>=0.21 in /usr/local/lib/python3.11/dist-packages (from transformers) (0.21.1)\n",
            "Requirement already satisfied: safetensors>=0.4.3 in /usr/local/lib/python3.11/dist-packages (from transformers) (0.5.3)\n",
            "Requirement already satisfied: tqdm>=4.27 in /usr/local/lib/python3.11/dist-packages (from transformers) (4.67.1)\n",
            "Requirement already satisfied: typing-extensions>=4.10.0 in /usr/local/lib/python3.11/dist-packages (from torch) (4.13.0)\n",
            "Requirement already satisfied: networkx in /usr/local/lib/python3.11/dist-packages (from torch) (3.4.2)\n",
            "Requirement already satisfied: jinja2 in /usr/local/lib/python3.11/dist-packages (from torch) (3.1.6)\n",
            "Requirement already satisfied: fsspec in /usr/local/lib/python3.11/dist-packages (from torch) (2025.3.2)\n",
            "Requirement already satisfied: nvidia-cuda-nvrtc-cu12==12.4.127 in /usr/local/lib/python3.11/dist-packages (from torch) (12.4.127)\n",
            "Requirement already satisfied: nvidia-cuda-runtime-cu12==12.4.127 in /usr/local/lib/python3.11/dist-packages (from torch) (12.4.127)\n",
            "Requirement already satisfied: nvidia-cuda-cupti-cu12==12.4.127 in /usr/local/lib/python3.11/dist-packages (from torch) (12.4.127)\n",
            "Requirement already satisfied: nvidia-cudnn-cu12==9.1.0.70 in /usr/local/lib/python3.11/dist-packages (from torch) (9.1.0.70)\n",
            "Requirement already satisfied: nvidia-cublas-cu12==12.4.5.8 in /usr/local/lib/python3.11/dist-packages (from torch) (12.4.5.8)\n",
            "Requirement already satisfied: nvidia-cufft-cu12==11.2.1.3 in /usr/local/lib/python3.11/dist-packages (from torch) (11.2.1.3)\n",
            "Requirement already satisfied: nvidia-curand-cu12==10.3.5.147 in /usr/local/lib/python3.11/dist-packages (from torch) (10.3.5.147)\n",
            "Requirement already satisfied: nvidia-cusolver-cu12==11.6.1.9 in /usr/local/lib/python3.11/dist-packages (from torch) (11.6.1.9)\n",
            "Requirement already satisfied: nvidia-cusparse-cu12==12.3.1.170 in /usr/local/lib/python3.11/dist-packages (from torch) (12.3.1.170)\n",
            "Requirement already satisfied: nvidia-cusparselt-cu12==0.6.2 in /usr/local/lib/python3.11/dist-packages (from torch) (0.6.2)\n",
            "Requirement already satisfied: nvidia-nccl-cu12==2.21.5 in /usr/local/lib/python3.11/dist-packages (from torch) (2.21.5)\n",
            "Requirement already satisfied: nvidia-nvtx-cu12==12.4.127 in /usr/local/lib/python3.11/dist-packages (from torch) (12.4.127)\n",
            "Requirement already satisfied: nvidia-nvjitlink-cu12==12.4.127 in /usr/local/lib/python3.11/dist-packages (from torch) (12.4.127)\n",
            "Requirement already satisfied: triton==3.2.0 in /usr/local/lib/python3.11/dist-packages (from torch) (3.2.0)\n",
            "Requirement already satisfied: sympy==1.13.1 in /usr/local/lib/python3.11/dist-packages (from torch) (1.13.1)\n",
            "Requirement already satisfied: mpmath<1.4,>=1.1.0 in /usr/local/lib/python3.11/dist-packages (from sympy==1.13.1->torch) (1.3.0)\n",
            "Requirement already satisfied: python-dateutil>=2.8.2 in /usr/local/lib/python3.11/dist-packages (from pandas) (2.8.2)\n",
            "Requirement already satisfied: pytz>=2020.1 in /usr/local/lib/python3.11/dist-packages (from pandas) (2025.2)\n",
            "Requirement already satisfied: tzdata>=2022.7 in /usr/local/lib/python3.11/dist-packages (from pandas) (2025.2)\n",
            "Requirement already satisfied: scipy>=1.6.0 in /usr/local/lib/python3.11/dist-packages (from scikit-learn) (1.14.1)\n",
            "Requirement already satisfied: joblib>=1.2.0 in /usr/local/lib/python3.11/dist-packages (from scikit-learn) (1.4.2)\n",
            "Requirement already satisfied: threadpoolctl>=3.1.0 in /usr/local/lib/python3.11/dist-packages (from scikit-learn) (3.6.0)\n",
            "Requirement already satisfied: six>=1.5 in /usr/local/lib/python3.11/dist-packages (from python-dateutil>=2.8.2->pandas) (1.17.0)\n",
            "Requirement already satisfied: MarkupSafe>=2.0 in /usr/local/lib/python3.11/dist-packages (from jinja2->torch) (3.0.2)\n",
            "Requirement already satisfied: charset-normalizer<4,>=2 in /usr/local/lib/python3.11/dist-packages (from requests->transformers) (3.4.1)\n",
            "Requirement already satisfied: idna<4,>=2.5 in /usr/local/lib/python3.11/dist-packages (from requests->transformers) (3.10)\n",
            "Requirement already satisfied: urllib3<3,>=1.21.1 in /usr/local/lib/python3.11/dist-packages (from requests->transformers) (2.3.0)\n",
            "Requirement already satisfied: certifi>=2017.4.17 in /usr/local/lib/python3.11/dist-packages (from requests->transformers) (2025.1.31)\n"
          ]
        }
      ],
      "source": [
        "!pip install transformers torch pandas scikit-learn"
      ]
    },
    {
      "cell_type": "code",
      "source": [
        "from google.colab import drive\n",
        "drive.mount('/content/drive')\n"
      ],
      "metadata": {
        "colab": {
          "base_uri": "https://localhost:8080/"
        },
        "id": "hm3L4NAIxBIT",
        "outputId": "45076f5f-fbd9-437a-adf4-59641b9564c5"
      },
      "execution_count": 2,
      "outputs": [
        {
          "output_type": "stream",
          "name": "stdout",
          "text": [
            "Drive already mounted at /content/drive; to attempt to forcibly remount, call drive.mount(\"/content/drive\", force_remount=True).\n"
          ]
        }
      ]
    },
    {
      "cell_type": "code",
      "source": [
        "import pandas as pd\n",
        "import matplotlib.pyplot as plt\n",
        "import seaborn as sns\n",
        "from transformers import AutoTokenizer, AutoModel\n",
        "import torch\n",
        "from sklearn.ensemble import RandomForestClassifier\n",
        "from sklearn.model_selection import train_test_split\n",
        "import numpy as np\n",
        "from sklearn.preprocessing import StandardScaler\n",
        "from sklearn.decomposition import PCA\n",
        "from sklearn.metrics import precision_score, recall_score, f1_score, roc_auc_score\n",
        "from imblearn.over_sampling import SMOTE\n",
        "from sklearn.metrics import roc_curve"
      ],
      "metadata": {
        "id": "bAGz5FoC7p0q"
      },
      "execution_count": 3,
      "outputs": []
    },
    {
      "cell_type": "code",
      "source": [
        "\n",
        "df = pd.read_json('/content/drive/MyDrive/megavul_simple.json')"
      ],
      "metadata": {
        "id": "8VB_S3f53Za4"
      },
      "execution_count": 4,
      "outputs": []
    },
    {
      "cell_type": "code",
      "source": [
        "df.info()\n"
      ],
      "metadata": {
        "colab": {
          "base_uri": "https://localhost:8080/"
        },
        "id": "_NHdzqaf3kv7",
        "outputId": "d41ce782-26b4-4b90-f0dd-10fa8952827c"
      },
      "execution_count": 5,
      "outputs": [
        {
          "output_type": "stream",
          "name": "stdout",
          "text": [
            "<class 'pandas.core.frame.DataFrame'>\n",
            "RangeIndex: 353873 entries, 0 to 353872\n",
            "Data columns (total 19 columns):\n",
            " #   Column                  Non-Null Count   Dtype  \n",
            "---  ------                  --------------   -----  \n",
            " 0   cve_id                  353873 non-null  object \n",
            " 1   cwe_ids                 353873 non-null  object \n",
            " 2   cvss_vector             353778 non-null  object \n",
            " 3   cvss_is_v3              353778 non-null  float64\n",
            " 4   repo_name               353873 non-null  object \n",
            " 5   commit_msg              353873 non-null  object \n",
            " 6   commit_hash             353873 non-null  object \n",
            " 7   git_url                 353873 non-null  object \n",
            " 8   file_path               353873 non-null  object \n",
            " 9   func_name               353873 non-null  object \n",
            " 10  func_before             17975 non-null   object \n",
            " 11  abstract_func_before    17975 non-null   object \n",
            " 12  func_graph_path_before  15664 non-null   object \n",
            " 13  func                    353873 non-null  object \n",
            " 14  abstract_func           353873 non-null  object \n",
            " 15  func_graph_path         308969 non-null  object \n",
            " 16  diff_func               17975 non-null   object \n",
            " 17  diff_line_info          17975 non-null   object \n",
            " 18  is_vul                  353873 non-null  bool   \n",
            "dtypes: bool(1), float64(1), object(17)\n",
            "memory usage: 48.9+ MB\n"
          ]
        }
      ]
    },
    {
      "cell_type": "code",
      "source": [
        "\n",
        "df.head()"
      ],
      "metadata": {
        "colab": {
          "base_uri": "https://localhost:8080/",
          "height": 487
        },
        "id": "gZKgNudl6Cu2",
        "outputId": "f3e17052-30a8-43d8-dbc5-9e2dbaace319"
      },
      "execution_count": 6,
      "outputs": [
        {
          "output_type": "execute_result",
          "data": {
            "text/plain": [
              "          cve_id    cwe_ids                 cvss_vector  cvss_is_v3 repo_name  \\\n",
              "0  CVE-2016-2538  [CWE-189]  AV:L/AC:L/Au:N/C:P/I:N/A:P         0.0      qemu   \n",
              "1  CVE-2016-2538  [CWE-189]  AV:L/AC:L/Au:N/C:P/I:N/A:P         0.0      qemu   \n",
              "2  CVE-2016-2538  [CWE-189]  AV:L/AC:L/Au:N/C:P/I:N/A:P         0.0      qemu   \n",
              "3  CVE-2016-2841   [CWE-20]  AV:L/AC:L/Au:N/C:N/I:N/A:P         0.0      qemu   \n",
              "4  CVE-2016-2841   [CWE-20]  AV:L/AC:L/Au:N/C:N/I:N/A:P         0.0      qemu   \n",
              "\n",
              "                                          commit_msg  \\\n",
              "0  usb: check RNDIS buffer offsets & length\\n\\nWh...   \n",
              "1  usb: check RNDIS buffer offsets & length\\n\\nWh...   \n",
              "2  usb: check RNDIS buffer offsets & length\\n\\nWh...   \n",
              "3  net: ne2000: check ring buffer control registe...   \n",
              "4  net: ne2000: check ring buffer control registe...   \n",
              "\n",
              "                                commit_hash  \\\n",
              "0  fe3c546c5ff2a6210f9a4d8561cc64051ca8603e   \n",
              "1  fe3c546c5ff2a6210f9a4d8561cc64051ca8603e   \n",
              "2  fe3c546c5ff2a6210f9a4d8561cc64051ca8603e   \n",
              "3  415ab35a441eca767d033a2702223e785b9d5190   \n",
              "4  415ab35a441eca767d033a2702223e785b9d5190   \n",
              "\n",
              "                                             git_url             file_path  \\\n",
              "0  https://github.com/qemu/qemu/commit/fe3c546c5f...  hw/usb/dev-network.c   \n",
              "1  https://github.com/qemu/qemu/commit/fe3c546c5f...  hw/usb/dev-network.c   \n",
              "2  https://github.com/qemu/qemu/commit/fe3c546c5f...  hw/usb/dev-network.c   \n",
              "3  https://github.com/qemu/qemu/commit/415ab35a44...       hw/net/ne2000.c   \n",
              "4  https://github.com/qemu/qemu/commit/415ab35a44...       hw/net/ne2000.c   \n",
              "\n",
              "                func_name                                        func_before  \\\n",
              "0    rndis_query_response  static int rndis_query_response(USBNetState *s...   \n",
              "1      rndis_set_response  static int rndis_set_response(USBNetState *s,\\...   \n",
              "2  usb_net_handle_dataout  static void usb_net_handle_dataout(USBNetState...   \n",
              "3      ne2000_buffer_full  static int ne2000_buffer_full(NE2000State *s)\\...   \n",
              "4        ne2000_mem_readl                                               None   \n",
              "\n",
              "                                abstract_func_before  \\\n",
              "0  static int rndis_query_response(USBNetState *V...   \n",
              "1  static int rndis_set_response(USBNetState *VAR...   \n",
              "2  static void usb_net_handle_dataout(USBNetState...   \n",
              "3  static int ne2000_buffer_full(NE2000State *VAR...   \n",
              "4                                               None   \n",
              "\n",
              "                              func_graph_path_before  \\\n",
              "0  qemu/fe3c546c5ff2a6210f9a4d8561cc64051ca8603e/...   \n",
              "1  qemu/fe3c546c5ff2a6210f9a4d8561cc64051ca8603e/...   \n",
              "2  qemu/fe3c546c5ff2a6210f9a4d8561cc64051ca8603e/...   \n",
              "3  qemu/415ab35a441eca767d033a2702223e785b9d5190/...   \n",
              "4                                               None   \n",
              "\n",
              "                                                func  \\\n",
              "0  static int rndis_query_response(USBNetState *s...   \n",
              "1  static int rndis_set_response(USBNetState *s,\\...   \n",
              "2  static void usb_net_handle_dataout(USBNetState...   \n",
              "3  static int ne2000_buffer_full(NE2000State *s)\\...   \n",
              "4  static inline uint32_t ne2000_mem_readl(NE2000...   \n",
              "\n",
              "                                       abstract_func  \\\n",
              "0  static int rndis_query_response(USBNetState *V...   \n",
              "1  static int rndis_set_response(USBNetState *VAR...   \n",
              "2  static void usb_net_handle_dataout(USBNetState...   \n",
              "3  static int ne2000_buffer_full(NE2000State *VAR...   \n",
              "4  static inline uint32_t ne2000_mem_readl(NE2000...   \n",
              "\n",
              "                                     func_graph_path  \\\n",
              "0  qemu/fe3c546c5ff2a6210f9a4d8561cc64051ca8603e/...   \n",
              "1  qemu/fe3c546c5ff2a6210f9a4d8561cc64051ca8603e/...   \n",
              "2  qemu/fe3c546c5ff2a6210f9a4d8561cc64051ca8603e/...   \n",
              "3  qemu/415ab35a441eca767d033a2702223e785b9d5190/...   \n",
              "4  qemu/415ab35a441eca767d033a2702223e785b9d5190/...   \n",
              "\n",
              "                                           diff_func  \\\n",
              "0  --- func_before\\n+++ func_after\\n@@ -10,8 +10,...   \n",
              "1  --- func_before\\n+++ func_after\\n@@ -11,8 +11,...   \n",
              "2  --- func_before\\n+++ func_after\\n@@ -30,8 +30,...   \n",
              "3  --- func_before\\n+++ func_after\\n@@ -1,6 +1,10...   \n",
              "4                                               None   \n",
              "\n",
              "                                      diff_line_info  is_vul  \n",
              "0  {'deleted_lines': ['    if (bufoffs + buflen >...    True  \n",
              "1  {'deleted_lines': ['    if (bufoffs + buflen >...    True  \n",
              "2  {'deleted_lines': ['        if (offs + size <=...    True  \n",
              "3  {'deleted_lines': [], 'added_lines': ['', '   ...    True  \n",
              "4                                               None   False  "
            ],
            "text/html": [
              "\n",
              "  <div id=\"df-06a9f5e8-0d87-4e68-ae98-d8f18ed081b8\" class=\"colab-df-container\">\n",
              "    <div>\n",
              "<style scoped>\n",
              "    .dataframe tbody tr th:only-of-type {\n",
              "        vertical-align: middle;\n",
              "    }\n",
              "\n",
              "    .dataframe tbody tr th {\n",
              "        vertical-align: top;\n",
              "    }\n",
              "\n",
              "    .dataframe thead th {\n",
              "        text-align: right;\n",
              "    }\n",
              "</style>\n",
              "<table border=\"1\" class=\"dataframe\">\n",
              "  <thead>\n",
              "    <tr style=\"text-align: right;\">\n",
              "      <th></th>\n",
              "      <th>cve_id</th>\n",
              "      <th>cwe_ids</th>\n",
              "      <th>cvss_vector</th>\n",
              "      <th>cvss_is_v3</th>\n",
              "      <th>repo_name</th>\n",
              "      <th>commit_msg</th>\n",
              "      <th>commit_hash</th>\n",
              "      <th>git_url</th>\n",
              "      <th>file_path</th>\n",
              "      <th>func_name</th>\n",
              "      <th>func_before</th>\n",
              "      <th>abstract_func_before</th>\n",
              "      <th>func_graph_path_before</th>\n",
              "      <th>func</th>\n",
              "      <th>abstract_func</th>\n",
              "      <th>func_graph_path</th>\n",
              "      <th>diff_func</th>\n",
              "      <th>diff_line_info</th>\n",
              "      <th>is_vul</th>\n",
              "    </tr>\n",
              "  </thead>\n",
              "  <tbody>\n",
              "    <tr>\n",
              "      <th>0</th>\n",
              "      <td>CVE-2016-2538</td>\n",
              "      <td>[CWE-189]</td>\n",
              "      <td>AV:L/AC:L/Au:N/C:P/I:N/A:P</td>\n",
              "      <td>0.0</td>\n",
              "      <td>qemu</td>\n",
              "      <td>usb: check RNDIS buffer offsets &amp; length\\n\\nWh...</td>\n",
              "      <td>fe3c546c5ff2a6210f9a4d8561cc64051ca8603e</td>\n",
              "      <td>https://github.com/qemu/qemu/commit/fe3c546c5f...</td>\n",
              "      <td>hw/usb/dev-network.c</td>\n",
              "      <td>rndis_query_response</td>\n",
              "      <td>static int rndis_query_response(USBNetState *s...</td>\n",
              "      <td>static int rndis_query_response(USBNetState *V...</td>\n",
              "      <td>qemu/fe3c546c5ff2a6210f9a4d8561cc64051ca8603e/...</td>\n",
              "      <td>static int rndis_query_response(USBNetState *s...</td>\n",
              "      <td>static int rndis_query_response(USBNetState *V...</td>\n",
              "      <td>qemu/fe3c546c5ff2a6210f9a4d8561cc64051ca8603e/...</td>\n",
              "      <td>--- func_before\\n+++ func_after\\n@@ -10,8 +10,...</td>\n",
              "      <td>{'deleted_lines': ['    if (bufoffs + buflen &gt;...</td>\n",
              "      <td>True</td>\n",
              "    </tr>\n",
              "    <tr>\n",
              "      <th>1</th>\n",
              "      <td>CVE-2016-2538</td>\n",
              "      <td>[CWE-189]</td>\n",
              "      <td>AV:L/AC:L/Au:N/C:P/I:N/A:P</td>\n",
              "      <td>0.0</td>\n",
              "      <td>qemu</td>\n",
              "      <td>usb: check RNDIS buffer offsets &amp; length\\n\\nWh...</td>\n",
              "      <td>fe3c546c5ff2a6210f9a4d8561cc64051ca8603e</td>\n",
              "      <td>https://github.com/qemu/qemu/commit/fe3c546c5f...</td>\n",
              "      <td>hw/usb/dev-network.c</td>\n",
              "      <td>rndis_set_response</td>\n",
              "      <td>static int rndis_set_response(USBNetState *s,\\...</td>\n",
              "      <td>static int rndis_set_response(USBNetState *VAR...</td>\n",
              "      <td>qemu/fe3c546c5ff2a6210f9a4d8561cc64051ca8603e/...</td>\n",
              "      <td>static int rndis_set_response(USBNetState *s,\\...</td>\n",
              "      <td>static int rndis_set_response(USBNetState *VAR...</td>\n",
              "      <td>qemu/fe3c546c5ff2a6210f9a4d8561cc64051ca8603e/...</td>\n",
              "      <td>--- func_before\\n+++ func_after\\n@@ -11,8 +11,...</td>\n",
              "      <td>{'deleted_lines': ['    if (bufoffs + buflen &gt;...</td>\n",
              "      <td>True</td>\n",
              "    </tr>\n",
              "    <tr>\n",
              "      <th>2</th>\n",
              "      <td>CVE-2016-2538</td>\n",
              "      <td>[CWE-189]</td>\n",
              "      <td>AV:L/AC:L/Au:N/C:P/I:N/A:P</td>\n",
              "      <td>0.0</td>\n",
              "      <td>qemu</td>\n",
              "      <td>usb: check RNDIS buffer offsets &amp; length\\n\\nWh...</td>\n",
              "      <td>fe3c546c5ff2a6210f9a4d8561cc64051ca8603e</td>\n",
              "      <td>https://github.com/qemu/qemu/commit/fe3c546c5f...</td>\n",
              "      <td>hw/usb/dev-network.c</td>\n",
              "      <td>usb_net_handle_dataout</td>\n",
              "      <td>static void usb_net_handle_dataout(USBNetState...</td>\n",
              "      <td>static void usb_net_handle_dataout(USBNetState...</td>\n",
              "      <td>qemu/fe3c546c5ff2a6210f9a4d8561cc64051ca8603e/...</td>\n",
              "      <td>static void usb_net_handle_dataout(USBNetState...</td>\n",
              "      <td>static void usb_net_handle_dataout(USBNetState...</td>\n",
              "      <td>qemu/fe3c546c5ff2a6210f9a4d8561cc64051ca8603e/...</td>\n",
              "      <td>--- func_before\\n+++ func_after\\n@@ -30,8 +30,...</td>\n",
              "      <td>{'deleted_lines': ['        if (offs + size &lt;=...</td>\n",
              "      <td>True</td>\n",
              "    </tr>\n",
              "    <tr>\n",
              "      <th>3</th>\n",
              "      <td>CVE-2016-2841</td>\n",
              "      <td>[CWE-20]</td>\n",
              "      <td>AV:L/AC:L/Au:N/C:N/I:N/A:P</td>\n",
              "      <td>0.0</td>\n",
              "      <td>qemu</td>\n",
              "      <td>net: ne2000: check ring buffer control registe...</td>\n",
              "      <td>415ab35a441eca767d033a2702223e785b9d5190</td>\n",
              "      <td>https://github.com/qemu/qemu/commit/415ab35a44...</td>\n",
              "      <td>hw/net/ne2000.c</td>\n",
              "      <td>ne2000_buffer_full</td>\n",
              "      <td>static int ne2000_buffer_full(NE2000State *s)\\...</td>\n",
              "      <td>static int ne2000_buffer_full(NE2000State *VAR...</td>\n",
              "      <td>qemu/415ab35a441eca767d033a2702223e785b9d5190/...</td>\n",
              "      <td>static int ne2000_buffer_full(NE2000State *s)\\...</td>\n",
              "      <td>static int ne2000_buffer_full(NE2000State *VAR...</td>\n",
              "      <td>qemu/415ab35a441eca767d033a2702223e785b9d5190/...</td>\n",
              "      <td>--- func_before\\n+++ func_after\\n@@ -1,6 +1,10...</td>\n",
              "      <td>{'deleted_lines': [], 'added_lines': ['', '   ...</td>\n",
              "      <td>True</td>\n",
              "    </tr>\n",
              "    <tr>\n",
              "      <th>4</th>\n",
              "      <td>CVE-2016-2841</td>\n",
              "      <td>[CWE-20]</td>\n",
              "      <td>AV:L/AC:L/Au:N/C:N/I:N/A:P</td>\n",
              "      <td>0.0</td>\n",
              "      <td>qemu</td>\n",
              "      <td>net: ne2000: check ring buffer control registe...</td>\n",
              "      <td>415ab35a441eca767d033a2702223e785b9d5190</td>\n",
              "      <td>https://github.com/qemu/qemu/commit/415ab35a44...</td>\n",
              "      <td>hw/net/ne2000.c</td>\n",
              "      <td>ne2000_mem_readl</td>\n",
              "      <td>None</td>\n",
              "      <td>None</td>\n",
              "      <td>None</td>\n",
              "      <td>static inline uint32_t ne2000_mem_readl(NE2000...</td>\n",
              "      <td>static inline uint32_t ne2000_mem_readl(NE2000...</td>\n",
              "      <td>qemu/415ab35a441eca767d033a2702223e785b9d5190/...</td>\n",
              "      <td>None</td>\n",
              "      <td>None</td>\n",
              "      <td>False</td>\n",
              "    </tr>\n",
              "  </tbody>\n",
              "</table>\n",
              "</div>\n",
              "    <div class=\"colab-df-buttons\">\n",
              "\n",
              "  <div class=\"colab-df-container\">\n",
              "    <button class=\"colab-df-convert\" onclick=\"convertToInteractive('df-06a9f5e8-0d87-4e68-ae98-d8f18ed081b8')\"\n",
              "            title=\"Convert this dataframe to an interactive table.\"\n",
              "            style=\"display:none;\">\n",
              "\n",
              "  <svg xmlns=\"http://www.w3.org/2000/svg\" height=\"24px\" viewBox=\"0 -960 960 960\">\n",
              "    <path d=\"M120-120v-720h720v720H120Zm60-500h600v-160H180v160Zm220 220h160v-160H400v160Zm0 220h160v-160H400v160ZM180-400h160v-160H180v160Zm440 0h160v-160H620v160ZM180-180h160v-160H180v160Zm440 0h160v-160H620v160Z\"/>\n",
              "  </svg>\n",
              "    </button>\n",
              "\n",
              "  <style>\n",
              "    .colab-df-container {\n",
              "      display:flex;\n",
              "      gap: 12px;\n",
              "    }\n",
              "\n",
              "    .colab-df-convert {\n",
              "      background-color: #E8F0FE;\n",
              "      border: none;\n",
              "      border-radius: 50%;\n",
              "      cursor: pointer;\n",
              "      display: none;\n",
              "      fill: #1967D2;\n",
              "      height: 32px;\n",
              "      padding: 0 0 0 0;\n",
              "      width: 32px;\n",
              "    }\n",
              "\n",
              "    .colab-df-convert:hover {\n",
              "      background-color: #E2EBFA;\n",
              "      box-shadow: 0px 1px 2px rgba(60, 64, 67, 0.3), 0px 1px 3px 1px rgba(60, 64, 67, 0.15);\n",
              "      fill: #174EA6;\n",
              "    }\n",
              "\n",
              "    .colab-df-buttons div {\n",
              "      margin-bottom: 4px;\n",
              "    }\n",
              "\n",
              "    [theme=dark] .colab-df-convert {\n",
              "      background-color: #3B4455;\n",
              "      fill: #D2E3FC;\n",
              "    }\n",
              "\n",
              "    [theme=dark] .colab-df-convert:hover {\n",
              "      background-color: #434B5C;\n",
              "      box-shadow: 0px 1px 3px 1px rgba(0, 0, 0, 0.15);\n",
              "      filter: drop-shadow(0px 1px 2px rgba(0, 0, 0, 0.3));\n",
              "      fill: #FFFFFF;\n",
              "    }\n",
              "  </style>\n",
              "\n",
              "    <script>\n",
              "      const buttonEl =\n",
              "        document.querySelector('#df-06a9f5e8-0d87-4e68-ae98-d8f18ed081b8 button.colab-df-convert');\n",
              "      buttonEl.style.display =\n",
              "        google.colab.kernel.accessAllowed ? 'block' : 'none';\n",
              "\n",
              "      async function convertToInteractive(key) {\n",
              "        const element = document.querySelector('#df-06a9f5e8-0d87-4e68-ae98-d8f18ed081b8');\n",
              "        const dataTable =\n",
              "          await google.colab.kernel.invokeFunction('convertToInteractive',\n",
              "                                                    [key], {});\n",
              "        if (!dataTable) return;\n",
              "\n",
              "        const docLinkHtml = 'Like what you see? Visit the ' +\n",
              "          '<a target=\"_blank\" href=https://colab.research.google.com/notebooks/data_table.ipynb>data table notebook</a>'\n",
              "          + ' to learn more about interactive tables.';\n",
              "        element.innerHTML = '';\n",
              "        dataTable['output_type'] = 'display_data';\n",
              "        await google.colab.output.renderOutput(dataTable, element);\n",
              "        const docLink = document.createElement('div');\n",
              "        docLink.innerHTML = docLinkHtml;\n",
              "        element.appendChild(docLink);\n",
              "      }\n",
              "    </script>\n",
              "  </div>\n",
              "\n",
              "\n",
              "<div id=\"df-c20d3b26-a191-4ae9-8be4-93b6fa000d17\">\n",
              "  <button class=\"colab-df-quickchart\" onclick=\"quickchart('df-c20d3b26-a191-4ae9-8be4-93b6fa000d17')\"\n",
              "            title=\"Suggest charts\"\n",
              "            style=\"display:none;\">\n",
              "\n",
              "<svg xmlns=\"http://www.w3.org/2000/svg\" height=\"24px\"viewBox=\"0 0 24 24\"\n",
              "     width=\"24px\">\n",
              "    <g>\n",
              "        <path d=\"M19 3H5c-1.1 0-2 .9-2 2v14c0 1.1.9 2 2 2h14c1.1 0 2-.9 2-2V5c0-1.1-.9-2-2-2zM9 17H7v-7h2v7zm4 0h-2V7h2v10zm4 0h-2v-4h2v4z\"/>\n",
              "    </g>\n",
              "</svg>\n",
              "  </button>\n",
              "\n",
              "<style>\n",
              "  .colab-df-quickchart {\n",
              "      --bg-color: #E8F0FE;\n",
              "      --fill-color: #1967D2;\n",
              "      --hover-bg-color: #E2EBFA;\n",
              "      --hover-fill-color: #174EA6;\n",
              "      --disabled-fill-color: #AAA;\n",
              "      --disabled-bg-color: #DDD;\n",
              "  }\n",
              "\n",
              "  [theme=dark] .colab-df-quickchart {\n",
              "      --bg-color: #3B4455;\n",
              "      --fill-color: #D2E3FC;\n",
              "      --hover-bg-color: #434B5C;\n",
              "      --hover-fill-color: #FFFFFF;\n",
              "      --disabled-bg-color: #3B4455;\n",
              "      --disabled-fill-color: #666;\n",
              "  }\n",
              "\n",
              "  .colab-df-quickchart {\n",
              "    background-color: var(--bg-color);\n",
              "    border: none;\n",
              "    border-radius: 50%;\n",
              "    cursor: pointer;\n",
              "    display: none;\n",
              "    fill: var(--fill-color);\n",
              "    height: 32px;\n",
              "    padding: 0;\n",
              "    width: 32px;\n",
              "  }\n",
              "\n",
              "  .colab-df-quickchart:hover {\n",
              "    background-color: var(--hover-bg-color);\n",
              "    box-shadow: 0 1px 2px rgba(60, 64, 67, 0.3), 0 1px 3px 1px rgba(60, 64, 67, 0.15);\n",
              "    fill: var(--button-hover-fill-color);\n",
              "  }\n",
              "\n",
              "  .colab-df-quickchart-complete:disabled,\n",
              "  .colab-df-quickchart-complete:disabled:hover {\n",
              "    background-color: var(--disabled-bg-color);\n",
              "    fill: var(--disabled-fill-color);\n",
              "    box-shadow: none;\n",
              "  }\n",
              "\n",
              "  .colab-df-spinner {\n",
              "    border: 2px solid var(--fill-color);\n",
              "    border-color: transparent;\n",
              "    border-bottom-color: var(--fill-color);\n",
              "    animation:\n",
              "      spin 1s steps(1) infinite;\n",
              "  }\n",
              "\n",
              "  @keyframes spin {\n",
              "    0% {\n",
              "      border-color: transparent;\n",
              "      border-bottom-color: var(--fill-color);\n",
              "      border-left-color: var(--fill-color);\n",
              "    }\n",
              "    20% {\n",
              "      border-color: transparent;\n",
              "      border-left-color: var(--fill-color);\n",
              "      border-top-color: var(--fill-color);\n",
              "    }\n",
              "    30% {\n",
              "      border-color: transparent;\n",
              "      border-left-color: var(--fill-color);\n",
              "      border-top-color: var(--fill-color);\n",
              "      border-right-color: var(--fill-color);\n",
              "    }\n",
              "    40% {\n",
              "      border-color: transparent;\n",
              "      border-right-color: var(--fill-color);\n",
              "      border-top-color: var(--fill-color);\n",
              "    }\n",
              "    60% {\n",
              "      border-color: transparent;\n",
              "      border-right-color: var(--fill-color);\n",
              "    }\n",
              "    80% {\n",
              "      border-color: transparent;\n",
              "      border-right-color: var(--fill-color);\n",
              "      border-bottom-color: var(--fill-color);\n",
              "    }\n",
              "    90% {\n",
              "      border-color: transparent;\n",
              "      border-bottom-color: var(--fill-color);\n",
              "    }\n",
              "  }\n",
              "</style>\n",
              "\n",
              "  <script>\n",
              "    async function quickchart(key) {\n",
              "      const quickchartButtonEl =\n",
              "        document.querySelector('#' + key + ' button');\n",
              "      quickchartButtonEl.disabled = true;  // To prevent multiple clicks.\n",
              "      quickchartButtonEl.classList.add('colab-df-spinner');\n",
              "      try {\n",
              "        const charts = await google.colab.kernel.invokeFunction(\n",
              "            'suggestCharts', [key], {});\n",
              "      } catch (error) {\n",
              "        console.error('Error during call to suggestCharts:', error);\n",
              "      }\n",
              "      quickchartButtonEl.classList.remove('colab-df-spinner');\n",
              "      quickchartButtonEl.classList.add('colab-df-quickchart-complete');\n",
              "    }\n",
              "    (() => {\n",
              "      let quickchartButtonEl =\n",
              "        document.querySelector('#df-c20d3b26-a191-4ae9-8be4-93b6fa000d17 button');\n",
              "      quickchartButtonEl.style.display =\n",
              "        google.colab.kernel.accessAllowed ? 'block' : 'none';\n",
              "    })();\n",
              "  </script>\n",
              "</div>\n",
              "\n",
              "    </div>\n",
              "  </div>\n"
            ],
            "application/vnd.google.colaboratory.intrinsic+json": {
              "type": "dataframe",
              "variable_name": "df"
            }
          },
          "metadata": {},
          "execution_count": 6
        }
      ]
    },
    {
      "cell_type": "code",
      "source": [
        "df.isnull().sum()"
      ],
      "metadata": {
        "colab": {
          "base_uri": "https://localhost:8080/",
          "height": 680
        },
        "id": "slWZwIB06Vgi",
        "outputId": "93411daf-4855-49b2-8e28-07295f651402"
      },
      "execution_count": 7,
      "outputs": [
        {
          "output_type": "execute_result",
          "data": {
            "text/plain": [
              "cve_id                         0\n",
              "cwe_ids                        0\n",
              "cvss_vector                   95\n",
              "cvss_is_v3                    95\n",
              "repo_name                      0\n",
              "commit_msg                     0\n",
              "commit_hash                    0\n",
              "git_url                        0\n",
              "file_path                      0\n",
              "func_name                      0\n",
              "func_before               335898\n",
              "abstract_func_before      335898\n",
              "func_graph_path_before    338209\n",
              "func                           0\n",
              "abstract_func                  0\n",
              "func_graph_path            44904\n",
              "diff_func                 335898\n",
              "diff_line_info            335898\n",
              "is_vul                         0\n",
              "dtype: int64"
            ],
            "text/html": [
              "<div>\n",
              "<style scoped>\n",
              "    .dataframe tbody tr th:only-of-type {\n",
              "        vertical-align: middle;\n",
              "    }\n",
              "\n",
              "    .dataframe tbody tr th {\n",
              "        vertical-align: top;\n",
              "    }\n",
              "\n",
              "    .dataframe thead th {\n",
              "        text-align: right;\n",
              "    }\n",
              "</style>\n",
              "<table border=\"1\" class=\"dataframe\">\n",
              "  <thead>\n",
              "    <tr style=\"text-align: right;\">\n",
              "      <th></th>\n",
              "      <th>0</th>\n",
              "    </tr>\n",
              "  </thead>\n",
              "  <tbody>\n",
              "    <tr>\n",
              "      <th>cve_id</th>\n",
              "      <td>0</td>\n",
              "    </tr>\n",
              "    <tr>\n",
              "      <th>cwe_ids</th>\n",
              "      <td>0</td>\n",
              "    </tr>\n",
              "    <tr>\n",
              "      <th>cvss_vector</th>\n",
              "      <td>95</td>\n",
              "    </tr>\n",
              "    <tr>\n",
              "      <th>cvss_is_v3</th>\n",
              "      <td>95</td>\n",
              "    </tr>\n",
              "    <tr>\n",
              "      <th>repo_name</th>\n",
              "      <td>0</td>\n",
              "    </tr>\n",
              "    <tr>\n",
              "      <th>commit_msg</th>\n",
              "      <td>0</td>\n",
              "    </tr>\n",
              "    <tr>\n",
              "      <th>commit_hash</th>\n",
              "      <td>0</td>\n",
              "    </tr>\n",
              "    <tr>\n",
              "      <th>git_url</th>\n",
              "      <td>0</td>\n",
              "    </tr>\n",
              "    <tr>\n",
              "      <th>file_path</th>\n",
              "      <td>0</td>\n",
              "    </tr>\n",
              "    <tr>\n",
              "      <th>func_name</th>\n",
              "      <td>0</td>\n",
              "    </tr>\n",
              "    <tr>\n",
              "      <th>func_before</th>\n",
              "      <td>335898</td>\n",
              "    </tr>\n",
              "    <tr>\n",
              "      <th>abstract_func_before</th>\n",
              "      <td>335898</td>\n",
              "    </tr>\n",
              "    <tr>\n",
              "      <th>func_graph_path_before</th>\n",
              "      <td>338209</td>\n",
              "    </tr>\n",
              "    <tr>\n",
              "      <th>func</th>\n",
              "      <td>0</td>\n",
              "    </tr>\n",
              "    <tr>\n",
              "      <th>abstract_func</th>\n",
              "      <td>0</td>\n",
              "    </tr>\n",
              "    <tr>\n",
              "      <th>func_graph_path</th>\n",
              "      <td>44904</td>\n",
              "    </tr>\n",
              "    <tr>\n",
              "      <th>diff_func</th>\n",
              "      <td>335898</td>\n",
              "    </tr>\n",
              "    <tr>\n",
              "      <th>diff_line_info</th>\n",
              "      <td>335898</td>\n",
              "    </tr>\n",
              "    <tr>\n",
              "      <th>is_vul</th>\n",
              "      <td>0</td>\n",
              "    </tr>\n",
              "  </tbody>\n",
              "</table>\n",
              "</div><br><label><b>dtype:</b> int64</label>"
            ]
          },
          "metadata": {},
          "execution_count": 7
        }
      ]
    },
    {
      "cell_type": "code",
      "source": [
        "df[\"function_length\"] = df[\"func\"].apply(lambda x: len(str(x)))\n",
        "\n",
        "plt.figure(figsize=(8, 5))\n",
        "sns.histplot(df[\"function_length\"], bins=30, kde=True)\n",
        "plt.xlabel(\"Function Length (characters)\")\n",
        "plt.ylabel(\"Count\")\n",
        "plt.title(\"Distribution of Function Lengths\")\n",
        "plt.show()"
      ],
      "metadata": {
        "colab": {
          "base_uri": "https://localhost:8080/",
          "height": 487
        },
        "id": "C5YBWi797Jvn",
        "outputId": "c305919c-6f24-4ee8-c634-c81c20e30487"
      },
      "execution_count": null,
      "outputs": [
        {
          "output_type": "display_data",
          "data": {
            "text/plain": [
              "<Figure size 800x500 with 1 Axes>"
            ],
            "image/png": "[encoded data removed]"
          },
          "metadata": {}
        }
      ]
    },
    {
      "cell_type": "code",
      "source": [
        "for col in df.columns[:-1]:  # Excluding the last column\n",
        "    print(f\"{col}: {df[col].apply(type).value_counts()}\")\n"
      ],
      "metadata": {
        "colab": {
          "base_uri": "https://localhost:8080/"
        },
        "id": "d4ULVyEU8WLe",
        "outputId": "93cad01d-224b-4b10-d15d-3eeb7f5062e2"
      },
      "execution_count": null,
      "outputs": [
        {
          "output_type": "stream",
          "name": "stdout",
          "text": [
            "cve_id: cve_id\n",
            "<class 'str'>    353873\n",
            "Name: count, dtype: int64\n",
            "cwe_ids: cwe_ids\n",
            "<class 'list'>    353873\n",
            "Name: count, dtype: int64\n",
            "cvss_vector: cvss_vector\n",
            "<class 'str'>         353778\n",
            "<class 'NoneType'>        95\n",
            "Name: count, dtype: int64\n",
            "cvss_is_v3: cvss_is_v3\n",
            "<class 'float'>    353873\n",
            "Name: count, dtype: int64\n",
            "repo_name: repo_name\n",
            "<class 'str'>    353873\n",
            "Name: count, dtype: int64\n",
            "commit_msg: commit_msg\n",
            "<class 'str'>    353873\n",
            "Name: count, dtype: int64\n",
            "commit_hash: commit_hash\n",
            "<class 'str'>    353873\n",
            "Name: count, dtype: int64\n",
            "git_url: git_url\n",
            "<class 'str'>    353873\n",
            "Name: count, dtype: int64\n",
            "file_path: file_path\n",
            "<class 'str'>    353873\n",
            "Name: count, dtype: int64\n",
            "func_name: func_name\n",
            "<class 'str'>    353873\n",
            "Name: count, dtype: int64\n",
            "func_before: func_before\n",
            "<class 'NoneType'>    335898\n",
            "<class 'str'>          17975\n",
            "Name: count, dtype: int64\n",
            "abstract_func_before: abstract_func_before\n",
            "<class 'NoneType'>    335898\n",
            "<class 'str'>          17975\n",
            "Name: count, dtype: int64\n",
            "func_graph_path_before: func_graph_path_before\n",
            "<class 'NoneType'>    338209\n",
            "<class 'str'>          15664\n",
            "Name: count, dtype: int64\n",
            "func: func\n",
            "<class 'str'>    353873\n",
            "Name: count, dtype: int64\n",
            "abstract_func: abstract_func\n",
            "<class 'str'>    353873\n",
            "Name: count, dtype: int64\n",
            "func_graph_path: func_graph_path\n",
            "<class 'str'>         308969\n",
            "<class 'NoneType'>     44904\n",
            "Name: count, dtype: int64\n",
            "diff_func: diff_func\n",
            "<class 'NoneType'>    335898\n",
            "<class 'str'>          17975\n",
            "Name: count, dtype: int64\n",
            "diff_line_info: diff_line_info\n",
            "<class 'NoneType'>    335898\n",
            "<class 'dict'>         17975\n",
            "Name: count, dtype: int64\n",
            "is_vul: is_vul\n",
            "<class 'bool'>    353873\n",
            "Name: count, dtype: int64\n"
          ]
        }
      ]
    },
    {
      "cell_type": "code",
      "source": [
        "df.shape"
      ],
      "metadata": {
        "colab": {
          "base_uri": "https://localhost:8080/"
        },
        "id": "YPxySxUY8Mp8",
        "outputId": "7a1a90b9-8a9c-439d-91be-e5d1a181b142"
      },
      "execution_count": null,
      "outputs": [
        {
          "output_type": "execute_result",
          "data": {
            "text/plain": [
              "(353873, 20)"
            ]
          },
          "metadata": {},
          "execution_count": 10
        }
      ]
    },
    {
      "cell_type": "code",
      "source": [
        "import seaborn as sns\n",
        "import matplotlib.pyplot as plt\n",
        "\n",
        "plt.figure(figsize=(10, 6))\n",
        "sns.countplot(x='function_length', hue='is_vul', data=df, palette='Set1')\n",
        "plt.title('Vulnerabilities Across Function Length Ranges')\n",
        "plt.xlabel('Function Length Range')\n",
        "plt.ylabel('Count')\n",
        "plt.show()"
      ],
      "metadata": {
        "colab": {
          "base_uri": "https://localhost:8080/",
          "height": 564
        },
        "id": "u31l5vD487C2",
        "outputId": "75959a3e-14ed-4c45-9518-9042aa464e55"
      },
      "execution_count": null,
      "outputs": [
        {
          "output_type": "display_data",
          "data": {
            "text/plain": [
              "<Figure size 1000x600 with 1 Axes>"
            ],
            "image/png": "[encoded data removed]"
          },
          "metadata": {}
        }
      ]
    },
    {
      "cell_type": "code",
      "source": [
        "# CodeBERT model and tokenizer\n",
        "tokenizer = AutoTokenizer.from_pretrained(\"microsoft/codebert-base\")\n",
        "model = AutoModel.from_pretrained(\"microsoft/codebert-base\")\n",
        "\n",
        "def get_embedding(code):\n",
        "    inputs = tokenizer(code, return_tensors=\"pt\", truncation=True, max_length=512)\n",
        "    with torch.no_grad():\n",
        "        outputs = model(**inputs)\n",
        "    return outputs.last_hidden_state.mean(dim=1).squeeze().numpy()\n",
        "\n",
        "# # first 1000 rows\n",
        "# subset_df = df.head(1000)\n",
        "# embeddings = subset_df['func'].apply(get_embedding)\n"
      ],
      "metadata": {
        "colab": {
          "base_uri": "https://localhost:8080/"
        },
        "id": "ZZj_AUdYkAcX",
        "outputId": "f164a929-88cc-4fad-eb08-487113d56e2d"
      },
      "execution_count": 9,
      "outputs": [
        {
          "output_type": "stream",
          "name": "stderr",
          "text": [
            "/usr/local/lib/python3.11/dist-packages/huggingface_hub/utils/_auth.py:94: UserWarning: \n",
            "The secret `HF_TOKEN` does not exist in your Colab secrets.\n",
            "To authenticate with the Hugging Face Hub, create a token in your settings tab (https://huggingface.co/settings/tokens), set it as secret in your Google Colab and restart your session.\n",
            "You will be able to reuse this secret in all of your notebooks.\n",
            "Please note that authentication is recommended but still optional to access public models or datasets.\n",
            "  warnings.warn(\n"
          ]
        }
      ]
    },
    {
      "cell_type": "code",
      "source": [
        "subset_size = 1000\n",
        "\n",
        "features = []\n",
        "labels = []\n",
        "\n",
        "# Processing each repository\n",
        "for repo_name, repo_df in df.groupby('repo_name'):\n",
        "    commit_counter = 0\n",
        "    file_stats = {}     # {file_path: {'last_vul_commit': int/None, 'cum_vul_count': int, 'commit_count': int}}\n",
        "    repo_last_vul_commit = None  # Tracks last vulnerability commit in repo\n",
        "\n",
        "\n",
        "    for commit_hash, commit_df in repo_df.groupby('commit_hash'):\n",
        "        commit_counter += 1\n",
        "        has_vul = commit_df['is_vul'].sum() > 0\n",
        "        if has_vul:\n",
        "            repo_last_vul_commit = commit_counter\n",
        "\n",
        "        file_groups = commit_df.groupby('file_path')\n",
        "        for file_path, file_df in file_groups:\n",
        "            if file_path not in file_stats:\n",
        "                file_stats[file_path] = {'last_vul_commit': None, 'cum_vul_count': 0, 'commit_count': 0}\n",
        "\n",
        "            last_vul_commit = file_stats[file_path]['last_vul_commit']\n",
        "            past_vul_count = file_stats[file_path]['cum_vul_count']\n",
        "            commit_count = file_stats[file_path]['commit_count']\n",
        "\n",
        "            file_commits_since_last_vul = commit_counter - last_vul_commit if last_vul_commit is not None else 10000\n",
        "            repo_commits_since_last_vul = commit_counter - repo_last_vul_commit if repo_last_vul_commit is not None else 10000\n",
        "\n",
        "            for idx, row in file_df.iterrows():\n",
        "                features.append({\n",
        "                    'past_vul_count': past_vul_count,\n",
        "                    'commit_count': commit_count,\n",
        "                    'file_commits_since_last_vul': file_commits_since_last_vul,\n",
        "                    'repo_commits_since_last_vul': repo_commits_since_last_vul\n",
        "                })\n",
        "                labels.append(row['is_vul'])\n",
        "\n",
        "            num_vul_this_commit = file_df['is_vul'].sum()\n",
        "            if num_vul_this_commit > 0:\n",
        "                file_stats[file_path]['last_vul_commit'] = commit_counter\n",
        "            file_stats[file_path]['cum_vul_count'] += num_vul_this_commit\n",
        "            file_stats[file_path]['commit_count'] += 1\n"
      ],
      "metadata": {
        "id": "N5NLc5-FAVGz"
      },
      "execution_count": 10,
      "outputs": []
    },
    {
      "cell_type": "code",
      "source": [
        "\n",
        "# feature DataFrame\n",
        "feature_df = pd.DataFrame(features)\n",
        "feature_df['label'] = labels\n",
        "print(\"Temporal features generated:\")\n",
        "print(feature_df.head())\n",
        "\n"
      ],
      "metadata": {
        "colab": {
          "base_uri": "https://localhost:8080/"
        },
        "id": "OW4QLepNDeLw",
        "outputId": "a86764d2-3544-4a0c-ceed-80bbb153fc9a"
      },
      "execution_count": 11,
      "outputs": [
        {
          "output_type": "stream",
          "name": "stdout",
          "text": [
            "Temporal features generated:\n",
            "   past_vul_count  commit_count  file_commits_since_last_vul  \\\n",
            "0               0             0                        10000   \n",
            "1               0             0                        10000   \n",
            "2               0             0                        10000   \n",
            "3               0             0                        10000   \n",
            "4               0             0                        10000   \n",
            "\n",
            "   repo_commits_since_last_vul  label  \n",
            "0                            0   True  \n",
            "1                            0   True  \n",
            "2                            0  False  \n",
            "3                            0  False  \n",
            "4                            0  False  \n"
          ]
        }
      ]
    },
    {
      "cell_type": "code",
      "source": [
        "feature_df['commit_count'].unique()"
      ],
      "metadata": {
        "colab": {
          "base_uri": "https://localhost:8080/"
        },
        "id": "yYXgC3GcGa9G",
        "outputId": "acd6d505-1689-449c-dffc-a134030f2c5e"
      },
      "execution_count": 12,
      "outputs": [
        {
          "output_type": "execute_result",
          "data": {
            "text/plain": [
              "array([ 0,  1,  2,  3,  4,  5,  6,  7,  8,  9, 10, 11, 12, 13, 14, 15, 16,\n",
              "       17, 18, 19, 20, 21, 22, 23, 24, 25, 26, 27, 28, 29, 30, 31, 32])"
            ]
          },
          "metadata": {},
          "execution_count": 12
        }
      ]
    },
    {
      "cell_type": "code",
      "source": [
        "feature_df['past_vul_count'].unique()"
      ],
      "metadata": {
        "colab": {
          "base_uri": "https://localhost:8080/"
        },
        "id": "4YukhwshGdam",
        "outputId": "95817d6c-ccfd-4923-f18f-a7a459548859"
      },
      "execution_count": 13,
      "outputs": [
        {
          "output_type": "execute_result",
          "data": {
            "text/plain": [
              "array([ 0,  1,  2,  3,  5,  6,  7,  8,  9, 10,  4, 12, 11, 13, 14, 15, 16,\n",
              "       18, 19, 20, 21, 22, 23, 24, 25, 27, 28, 29, 30, 31, 32, 33, 17, 26,\n",
              "       34, 36, 37, 38, 39, 41, 43, 45, 40, 46, 42, 47, 49, 50, 51, 52, 53,\n",
              "       54, 56, 44, 62, 95, 99, 35, 55, 57, 59])"
            ]
          },
          "metadata": {},
          "execution_count": 13
        }
      ]
    },
    {
      "cell_type": "code",
      "source": [
        "# Stratified sampling based on 'is_vul' coloumn\n",
        "subset_df = df.groupby('is_vul', group_keys=False).apply(lambda x: x.sample(min(len(x), subset_size // 2)))\n",
        "subset_indices = subset_df.index\n",
        "\n",
        "# Computing embeddings for 'func'\n",
        "embeddings = subset_df['func'].apply(get_embedding)\n",
        "embedding_array = np.stack(embeddings.values)\n",
        "print(f\"Embedding shape: {embedding_array.shape}\")\n"
      ],
      "metadata": {
        "colab": {
          "base_uri": "https://localhost:8080/"
        },
        "id": "6orr0uSsExoW",
        "outputId": "e9950729-ca36-477b-9338-31b8ab711040"
      },
      "execution_count": 14,
      "outputs": [
        {
          "output_type": "stream",
          "name": "stderr",
          "text": [
            "<ipython-input-14-3c842446ef22>:2: DeprecationWarning: DataFrameGroupBy.apply operated on the grouping columns. This behavior is deprecated, and in a future version of pandas the grouping columns will be excluded from the operation. Either pass `include_groups=False` to exclude the groupings or explicitly select the grouping columns after groupby to silence this warning.\n",
            "  subset_df = df.groupby('is_vul', group_keys=False).apply(lambda x: x.sample(min(len(x), subset_size // 2)))\n"
          ]
        },
        {
          "output_type": "stream",
          "name": "stdout",
          "text": [
            "Embedding shape: (1000, 768)\n"
          ]
        }
      ]
    },
    {
      "cell_type": "code",
      "source": [
        "\n",
        "# Extract corresponding temporal features and labels\n",
        "X_temporal_subset = feature_df.loc[subset_indices, ['past_vul_count', 'commit_count',\n",
        "                                                  'file_commits_since_last_vul', 'repo_commits_since_last_vul']]\n",
        "y_subset = feature_df.loc[subset_indices, 'label']\n",
        "\n",
        "# Check label distribution\n",
        "print(\"Label distribution in full dataset:\")\n",
        "print(df['is_vul'].value_counts(normalize=True))\n",
        "print(\"Label distribution in subset:\")\n",
        "print(y_subset.value_counts(normalize=True))\n"
      ],
      "metadata": {
        "colab": {
          "base_uri": "https://localhost:8080/"
        },
        "id": "onhPIoHnEzdm",
        "outputId": "67abe59b-33df-4be1-9eb1-f7a174f94c54"
      },
      "execution_count": 15,
      "outputs": [
        {
          "output_type": "stream",
          "name": "stdout",
          "text": [
            "Label distribution in full dataset:\n",
            "is_vul\n",
            "False    0.949205\n",
            "True     0.050795\n",
            "Name: proportion, dtype: float64\n",
            "Label distribution in subset:\n",
            "label\n",
            "False    0.957\n",
            "True     0.043\n",
            "Name: proportion, dtype: float64\n"
          ]
        }
      ]
    },
    {
      "cell_type": "code",
      "source": [
        "\n",
        "# reduce dimensionality\n",
        "pca = PCA(n_components=50, random_state=42)\n",
        "X_code_reduced = pca.fit_transform(embedding_array)\n",
        "\n",
        "# Scaling features\n",
        "scaler = StandardScaler()\n",
        "X_code_scaled = scaler.fit_transform(X_code_reduced)\n",
        "X_temporal_scaled = scaler.fit_transform(X_temporal_subset)\n",
        "X_combined = np.hstack((X_temporal_scaled, X_code_scaled))\n",
        "\n",
        "# SMOTE to balance the dataset\n",
        "smote = SMOTE(random_state=42)\n",
        "X_combined_balanced, y_subset_balanced = smote.fit_resample(X_combined, y_subset)\n",
        "\n",
        "\n",
        "X_combined_train, X_combined_test, y_combined_train, y_combined_test = train_test_split(\n",
        "    X_combined_balanced, y_subset_balanced, test_size=0.2, random_state=42\n",
        ")\n",
        "\n",
        "# combined features model\n",
        "clf_combined = RandomForestClassifier(n_estimators=100, random_state=42, class_weight='balanced')\n",
        "clf_combined.fit(X_combined_train, y_combined_train)\n",
        "y_pred_combined = clf_combined.predict(X_combined_test)\n",
        "\n",
        "metrics_combined = {\n",
        "    'Precision': precision_score(y_combined_test, y_pred_combined),\n",
        "    'Recall': recall_score(y_combined_test, y_pred_combined),\n",
        "    'F1-score': f1_score(y_combined_test, y_pred_combined),\n",
        "    'ROC-AUC': roc_auc_score(y_combined_test, clf_combined.predict_proba(X_combined_test)[:, 1])\n",
        "}\n",
        "\n",
        "# Code-only model\n",
        "X_code_train, X_code_test, y_code_train, y_code_test = train_test_split(\n",
        "    X_code_scaled, y_subset, test_size=0.2, random_state=42\n",
        ")\n",
        "clf_code = RandomForestClassifier(n_estimators=100, random_state=42, class_weight='balanced')\n",
        "clf_code.fit(X_code_train, y_code_train)\n",
        "y_pred_code = clf_code.predict(X_code_test)\n",
        "metrics_code = {\n",
        "    'Precision': precision_score(y_code_test, y_pred_code),\n",
        "    'Recall': recall_score(y_code_test, y_pred_code),\n",
        "    'F1-score': f1_score(y_code_test, y_pred_code),\n",
        "    'ROC-AUC': roc_auc_score(y_code_test, clf_code.predict_proba(X_code_test)[:, 1])\n",
        "}\n",
        "\n",
        "# Temporal-only model\n",
        "X_temporal_train, X_temporal_test, y_temporal_train, y_temporal_test = train_test_split(\n",
        "    X_temporal_scaled, y_subset, test_size=0.2, random_state=42\n",
        ")\n",
        "clf_temporal = RandomForestClassifier(n_estimators=100, random_state=42, class_weight='balanced')\n",
        "clf_temporal.fit(X_temporal_train, y_temporal_train)\n",
        "y_pred_temporal = clf_temporal.predict(X_temporal_test)\n",
        "metrics_temporal = {\n",
        "    'Precision': precision_score(y_temporal_test, y_pred_temporal),\n",
        "    'Recall': recall_score(y_temporal_test, y_pred_temporal),\n",
        "    'F1-score': f1_score(y_temporal_test, y_pred_temporal),\n",
        "    'ROC-AUC': roc_auc_score(y_temporal_test, clf_temporal.predict_proba(X_temporal_test)[:, 1])\n",
        "}\n",
        "\n"
      ],
      "metadata": {
        "colab": {
          "base_uri": "https://localhost:8080/"
        },
        "id": "RPjBzKqdE1Em",
        "outputId": "6346250a-1837-4478-aa15-e2679cd3c448"
      },
      "execution_count": 16,
      "outputs": [
        {
          "output_type": "stream",
          "name": "stderr",
          "text": [
            "/usr/local/lib/python3.11/dist-packages/sklearn/metrics/_classification.py:1565: UndefinedMetricWarning: Precision is ill-defined and being set to 0.0 due to no predicted samples. Use `zero_division` parameter to control this behavior.\n",
            "  _warn_prf(average, modifier, f\"{metric.capitalize()} is\", len(result))\n"
          ]
        }
      ]
    },
    {
      "cell_type": "code",
      "source": [
        "# Print evaluation results\n",
        "print(\"\\nModel Performance Comparison:\")\n",
        "print(\"----------------------------\")\n",
        "print(\"Combined Features:\")\n",
        "print(f\"Precision: {metrics_combined['Precision']:.4f}, Recall: {metrics_combined['Recall']:.4f}, \"\n",
        "      f\"F1-score: {metrics_combined['F1-score']:.4f}, ROC-AUC: {metrics_combined['ROC-AUC']:.4f}\")\n",
        "print(\"Predictions:\", np.unique(y_pred_combined, return_counts=True))\n",
        "\n",
        "print(\"\\nCode Features Only:\")\n",
        "print(f\"Precision: {metrics_code['Precision']:.4f}, Recall: {metrics_code['Recall']:.4f}, \"\n",
        "      f\"F1-score: {metrics_code['F1-score']:.4f}, ROC-AUC: {metrics_code['ROC-AUC']:.4f}\")\n",
        "print(\"Predictions:\", np.unique(y_pred_code, return_counts=True))\n",
        "\n",
        "\n",
        "print(\"\\nTemporal Features Only:\")\n",
        "print(f\"Precision: {metrics_temporal['Precision']:.4f}, Recall: {metrics_temporal['Recall']:.4f}, \"\n",
        "      f\"F1-score: {metrics_temporal['F1-score']:.4f}, ROC-AUC: {metrics_temporal['ROC-AUC']:.4f}\")\n",
        "print(\"Predictions:\", np.unique(y_pred_temporal, return_counts=True))\n"
      ],
      "metadata": {
        "colab": {
          "base_uri": "https://localhost:8080/"
        },
        "id": "6tuPhsjIE9oX",
        "outputId": "c0aee945-f838-4e13-da19-dd5ddc59c453"
      },
      "execution_count": 17,
      "outputs": [
        {
          "output_type": "stream",
          "name": "stdout",
          "text": [
            "\n",
            "Model Performance Comparison:\n",
            "----------------------------\n",
            "Combined Features:\n",
            "Precision: 0.9835, Recall: 0.9781, F1-score: 0.9808, ROC-AUC: 0.9981\n",
            "Predictions: (array([False,  True]), array([201, 182]))\n",
            "\n",
            "Code Features Only:\n",
            "Precision: 0.0000, Recall: 0.0000, F1-score: 0.0000, ROC-AUC: 0.5211\n",
            "Predictions: (array([False]), array([200]))\n",
            "\n",
            "Temporal Features Only:\n",
            "Precision: 0.0000, Recall: 0.0000, F1-score: 0.0000, ROC-AUC: 0.5933\n",
            "Predictions: (array([False,  True]), array([199,   1]))\n"
          ]
        }
      ]
    },
    {
      "cell_type": "markdown",
      "source": [
        "## Feature importance analysis"
      ],
      "metadata": {
        "id": "uB_x6CotK6xF"
      }
    },
    {
      "cell_type": "code",
      "source": [
        "if hasattr(clf_combined, 'feature_importances_'):\n",
        "    importances = clf_combined.feature_importances_\n",
        "    feature_names = ['past_vul_count', 'commit_count', 'file_commits_since_last_vul',\n",
        "                    'repo_commits_since_last_vul'] + [f'code_{i}' for i in range(X_code_scaled.shape[1])]\n",
        "    indices = np.argsort(importances)[::-1]\n",
        "    print(\"\\nFeature Importance Ranking:\")\n",
        "    for i in range(min(10, len(feature_names))):  # Print top 10 features\n",
        "        print(f\"{i+1}. {feature_names[indices[i]]} ({importances[indices[i]]:.4f})\")\n",
        "\n"
      ],
      "metadata": {
        "colab": {
          "base_uri": "https://localhost:8080/"
        },
        "id": "EjecOIGeE_c_",
        "outputId": "c6307b34-b085-4157-86cf-c6db23e14bfa"
      },
      "execution_count": 19,
      "outputs": [
        {
          "output_type": "stream",
          "name": "stdout",
          "text": [
            "\n",
            "Feature Importance Ranking:\n",
            "1. code_34 (0.0613)\n",
            "2. code_3 (0.0484)\n",
            "3. code_15 (0.0440)\n",
            "4. code_6 (0.0430)\n",
            "5. code_31 (0.0370)\n",
            "6. code_18 (0.0351)\n",
            "7. code_36 (0.0340)\n",
            "8. code_21 (0.0340)\n",
            "9. code_48 (0.0334)\n",
            "10. code_33 (0.0294)\n"
          ]
        }
      ]
    },
    {
      "cell_type": "markdown",
      "source": [
        "# ROC curves"
      ],
      "metadata": {
        "id": "wnYg8x3kLTjJ"
      }
    },
    {
      "cell_type": "code",
      "source": [
        "plt.figure(figsize=(10, 8))\n",
        "\n",
        "for name, clf, X_test, y_test in [\n",
        "    ('Combined', clf_combined, X_combined_test, y_combined_test),\n",
        "    ('Code-only', clf_code, X_code_test, y_code_test),\n",
        "    ('Temporal-only', clf_temporal, X_temporal_test, y_temporal_test)\n",
        "]:\n",
        "    y_score = clf.predict_proba(X_test)[:, 1]\n",
        "    fpr, tpr, _ = roc_curve(y_test, y_score)\n",
        "    plt.plot(fpr, tpr, label=f'{name} (AUC = {roc_auc_score(y_test, y_score):.3f})')\n",
        "\n",
        "plt.plot([0, 1], [0, 1], 'k--')\n",
        "plt.xlabel('False Positive Rate')\n",
        "plt.ylabel('True Positive Rate')\n",
        "plt.title('ROC Curves Comparison')\n",
        "plt.legend()\n",
        "plt.savefig('roc_comparison.png')\n",
        "plt.show()\n",
        "\n",
        "print(\"\\nROC curve comparison saved to 'roc_comparison.png'\")"
      ],
      "metadata": {
        "colab": {
          "base_uri": "https://localhost:8080/",
          "height": 753
        },
        "id": "StHXTDcEFoz8",
        "outputId": "caac6c5d-e355-4e4f-d2a5-284b729c41e0"
      },
      "execution_count": 21,
      "outputs": [
        {
          "output_type": "display_data",
          "data": {
            "text/plain": [
              "<Figure size 1000x800 with 1 Axes>"
            ],
            "image/png": "[encoded data removed]"
          },
          "metadata": {}
        },
        {
          "output_type": "stream",
          "name": "stdout",
          "text": [
            "\n",
            "ROC curve comparison saved to 'roc_comparison.png'\n"
          ]
        }
      ]
    },
    {
      "cell_type": "code",
      "source": [],
      "metadata": {
        "id": "qkKdO8FVLDCk"
      },
      "execution_count": null,
      "outputs": []
    }
  ]
}